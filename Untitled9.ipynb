{
  "nbformat": 4,
  "nbformat_minor": 0,
  "metadata": {
    "colab": {
      "name": "Untitled9.ipynb",
      "private_outputs": true,
      "provenance": [],
      "collapsed_sections": [],
      "authorship_tag": "ABX9TyNpyVaMEYsyV3K1nSKSWjCS",
      "include_colab_link": true
    },
    "kernelspec": {
      "name": "python3",
      "display_name": "Python 3"
    },
    "language_info": {
      "name": "python"
    }
  },
  "cells": [
    {
      "cell_type": "markdown",
      "metadata": {
        "id": "view-in-github",
        "colab_type": "text"
      },
      "source": [
        "<a href=\"https://colab.research.google.com/github/sezerblt/AR_VC/blob/master/Untitled9.ipynb\" target=\"_parent\"><img src=\"https://colab.research.google.com/assets/colab-badge.svg\" alt=\"Open In Colab\"/></a>"
      ]
    },
    {
      "cell_type": "markdown",
      "metadata": {
        "id": "TQ0RRnnwuOEE"
      },
      "source": [
        "görüntü veri setinin bulundugu klasör git ve gerekli os ayarlamaları yap"
      ]
    },
    {
      "cell_type": "code",
      "metadata": {
        "id": "XKLTu0YRp0fM"
      },
      "source": [
        "from google.colab import drive\n",
        "drive.mount(\"/content/gdrive\")\n",
        "import os\n",
        "os.environ[\"KAGGLE_CONFIG_DIR\"]=\"/content/gdrive/MyDrive/Kaggle\"\n",
        "%cd \"/content/gdrive/MyDrive/Kaggle\""
      ],
      "execution_count": null,
      "outputs": []
    },
    {
      "cell_type": "markdown",
      "metadata": {
        "id": "S8_ZJU_cuqaF"
      },
      "source": [
        "Kullanacağımız tüm paketleri import ediyoruz"
      ]
    },
    {
      "cell_type": "code",
      "metadata": {
        "id": "hwaX7bOfpZg_"
      },
      "source": [
        "import numpy as np\n",
        "import os\n",
        "import tensorflow as tf\n",
        "import tensorflow_datasets as tfds\n",
        "import pathlib\n",
        "from PIL import Image"
      ],
      "execution_count": null,
      "outputs": []
    },
    {
      "cell_type": "markdown",
      "metadata": {
        "id": "69LJQEzZuzvp"
      },
      "source": [
        "Görüntünün bulunduğu dizin ve ve dosya içerisinde bulunan görüntü sayısını bir değere atayalım\n",
        " Test ve train verilerini ayıralım"
      ]
    },
    {
      "cell_type": "code",
      "metadata": {
        "id": "Yb3h62eDsqs3"
      },
      "source": [
        "file_path=\"/content/gdrive/MyDrive/Kaggle/data\"\n",
        "data_dir = pathlib.Path(file_path)\n",
        "imageCount=len(list(data_dir.glob(\"*/*/*.jpg\")))\n",
        "\n",
        "TRAIN_DATA_bening    = file_path+str(\"/train/benign\")\n",
        "TRAIN_DATA_malignant = file_path+str(\"/train/malignant\")\n",
        "TEST_DATA_bening     = file_path+str(\"/test/benign\")\n",
        "TEST_DATA_malignant  = file_path+str(\"/test/malignant\")\n",
        "\n",
        "TRAIN_DATA_bening_list   = list(data_dir.glob(\"train/benign/*.jpg\"))\n",
        "TRAIN_DATA_malignant_list= list(data_dir.glob(\"train/malignant/*.jpg\"))\n",
        "TEST_DATA_bening_list    = list(data_dir.glob(\"test/benign/*.jpg\"))\n",
        "TEST_DATA_malignant_list = list(data_dir.glob(\"test/malignant/*.jpg\"))\n"
      ],
      "execution_count": null,
      "outputs": []
    },
    {
      "cell_type": "markdown",
      "metadata": {
        "id": "StI0KFbH0nPt"
      },
      "source": [
        "görüntü dataseti yükleyip, matrise dönüstürelim"
      ]
    },
    {
      "cell_type": "code",
      "metadata": {
        "id": "Kl4v12HM0zT6"
      },
      "source": [
        "joinLambda =lambda image_name : np.asarray(Image.open(image_name).convert(\"RGB\"))\n",
        "\n",
        "IMG_train_benign = [joinLambda(os.path.join(TRAIN_DATA_bening, filename)) for filename in os.listdir(TRAIN_DATA_bening)]\n",
        "DATA_BENIGN = np.array(IMG_train_benign, dtype='uint8')\n",
        "\n",
        "IMG_train_malignant = [joinLambda(os.path.join(TRAIN_DATA_malignant, filename)) for filename in os.listdir(TRAIN_DATA_malignant)]\n",
        "DATA_MALIGNANT = np.array(IMG_train_malignant, dtype='uint8')\n",
        "\n",
        "IMG_test_benign = [joinLambda(os.path.join(TEST_DATA_bening, filename)) for filename in os.listdir(TEST_DATA_bening)]\n",
        "TEST_BENIGN = np.array(IMG_test_benign, dtype='uint8')\n",
        "\n",
        "IMG_test_malignant = [joinLambda(os.path.join(TEST_DATA_malignant, filename)) for filename in os.listdir(TEST_DATA_malignant)]\n",
        "TEST_MALIGNANT = np.array(IMG_test_malignant, dtype='uint8')\n"
      ],
      "execution_count": null,
      "outputs": []
    },
    {
      "cell_type": "markdown",
      "metadata": {
        "id": "rLNrEbtFLfMN"
      },
      "source": [
        "Sınıflandırma için etiketleri tanımlayalım"
      ]
    },
    {
      "cell_type": "code",
      "metadata": {
        "id": "o1Km8Jzk7cwf"
      },
      "source": [
        "X_Label_benign    = np.zeros(DATA_BENIGN.shape[0])\n",
        "X_Label_malignant = np.zeros(DATA_MALIGNANT.shape[0])\n",
        "\n",
        "Y_label_benign    = np.zeros(TEST_BENIGN.shape[0])\n",
        "Y_label_malignant = np.zeros(TEST_MALIGNANT.shape[0])"
      ],
      "execution_count": null,
      "outputs": []
    },
    {
      "cell_type": "markdown",
      "metadata": {
        "id": "3ev_W8aLMbuW"
      },
      "source": [
        "İyi huylu ve kötü huylu verileri birlestirlim"
      ]
    },
    {
      "cell_type": "code",
      "metadata": {
        "id": "aneTCRoDNK6g"
      },
      "source": [
        "X_TRAIN = np.concatenate((DATA_BENIGN,DATA_MALIGNANT),axis=0)\n",
        "Y_TRAIN = np.concatenate((X_Label_benign,X_Label_malignant),axis=0)\n",
        "\n",
        "\n",
        "X_TEST = np.concatenate((TEST_BENIGN,TEST_MALIGNANT),axis=0)\n",
        "Y_TEST = np.concatenate((Y_label_benign,Y_label_malignant),axis=0)"
      ],
      "execution_count": null,
      "outputs": []
    },
    {
      "cell_type": "markdown",
      "metadata": {
        "id": "d9n3Q9KYPy7a"
      },
      "source": [
        "Verileri karıştır"
      ]
    },
    {
      "cell_type": "code",
      "metadata": {
        "id": "xZaqWJQcPgOZ"
      },
      "source": [
        "len_train = np.arange(X_TRAIN.shape[0])\n",
        "np.random.shuffle(len_train)\n",
        "X_TRAIN=X_TRAIN[len_train]\n",
        "Y_TRAIN=Y_TRAIN[len_train]\n",
        "\n",
        "len_train = np.arange(X_TRAIN.shape[0])\n",
        "np.random.shuffle(len_train)\n",
        "X_TEST =X_TEST[len_train]\n",
        "Y_TEST =Y_TEST[len_train]"
      ],
      "execution_count": null,
      "outputs": []
    },
    {
      "cell_type": "code",
      "metadata": {
        "id": "_kHcEvnuTdwW"
      },
      "source": [
        ""
      ],
      "execution_count": null,
      "outputs": []
    }
  ]
}