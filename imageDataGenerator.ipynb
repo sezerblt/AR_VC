{
  "nbformat": 4,
  "nbformat_minor": 0,
  "metadata": {
    "colab": {
      "private_outputs": true,
      "provenance": [],
      "authorship_tag": "ABX9TyPBRlrZdRFjY3wWrhBgpkFf",
      "include_colab_link": true
    },
    "kernelspec": {
      "name": "python3",
      "display_name": "Python 3"
    },
    "language_info": {
      "name": "python"
    }
  },
  "cells": [
    {
      "cell_type": "markdown",
      "metadata": {
        "id": "view-in-github",
        "colab_type": "text"
      },
      "source": [
        "<a href=\"https://colab.research.google.com/github/sezerblt/AR_VC/blob/master/imageDataGenerator.ipynb\" target=\"_parent\"><img src=\"https://colab.research.google.com/assets/colab-badge.svg\" alt=\"Open In Colab\"/></a>"
      ]
    },
    {
      "cell_type": "code",
      "execution_count": null,
      "metadata": {
        "id": "mj7ZrZU8bnqR"
      },
      "outputs": [],
      "source": [
        "from numpy import expand_dims\n",
        "import tensorflow\n",
        "from tensorflow.keras.utils import load_img\n",
        "from tensorflow.keras.utils import img_to_array\n",
        "from keras.preprocessing.image import ImageDataGenerator\n",
        "import matplotlib.pyplot as plt"
      ]
    },
    {
      "cell_type": "code",
      "source": [
        "def exp_image(filename,dataGen=ImageDataGenerator):\n",
        "  img=load_img(filename)\n",
        "  data=img_to_array(img)\n",
        "  ex_img_arr=expand_dims(data,0)\n",
        "  iterator=dataGen.flow(ex_img_arr,batch_size=1)\n",
        "  for i in range(9):\n",
        "    plt.subplot(330+i+1)\n",
        "    batch=iterator.next()\n",
        "    image=batch[0].astype(\"uint16\")\n",
        "    plt.imshow(image)\n",
        "  plt.show()\n",
        "datagen=ImageDataGenerator(zoom_range=[0.5,1.0])\n",
        "exp_image(\"bird.jpg\",datagen)"
      ],
      "metadata": {
        "id": "MvNgBD2zci4o"
      },
      "execution_count": null,
      "outputs": []
    },
    {
      "cell_type": "code",
      "source": [],
      "metadata": {
        "id": "91Xw4HsjC1UP"
      },
      "execution_count": null,
      "outputs": []
    }
  ]
}