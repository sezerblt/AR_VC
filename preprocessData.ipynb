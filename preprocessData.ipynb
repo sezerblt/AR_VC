{
  "nbformat": 4,
  "nbformat_minor": 0,
  "metadata": {
    "colab": {
      "private_outputs": true,
      "provenance": [],
      "authorship_tag": "ABX9TyOkTJbbQREEj9Z3N0Y0jCZc",
      "include_colab_link": true
    },
    "kernelspec": {
      "name": "python3",
      "display_name": "Python 3"
    },
    "language_info": {
      "name": "python"
    }
  },
  "cells": [
    {
      "cell_type": "markdown",
      "metadata": {
        "id": "view-in-github",
        "colab_type": "text"
      },
      "source": [
        "<a href=\"https://colab.research.google.com/github/sezerblt/AR_VC/blob/master/preprocessData.ipynb\" target=\"_parent\"><img src=\"https://colab.research.google.com/assets/colab-badge.svg\" alt=\"Open In Colab\"/></a>"
      ]
    },
    {
      "cell_type": "code",
      "execution_count": null,
      "metadata": {
        "id": "8-zwtGuXFJjp"
      },
      "outputs": [],
      "source": [
        "from numpy import asarray\n",
        "from keras.models import Sequential\n",
        "from keras.layers import Conv1D,Conv2D\n",
        "import pandas as pd\n",
        "import numpy\n",
        "from keras.models import Sequential\n",
        "from keras.layers import Conv2D\n",
        "from pandas.core.array_algos.take import take_2d_multi\n",
        "from keras.layers.convolutional.conv2d_transpose import Conv2D"
      ]
    },
    {
      "cell_type": "code",
      "source": [
        "data_train=pd.read_csv(\"sample_data/california_housing_train.csv\")\n",
        "class PredictHousePrice():\n",
        "  def __init__(self,train,test):\n",
        "    pass"
      ],
      "metadata": {
        "id": "jPUZDWsMWrcq"
      },
      "execution_count": null,
      "outputs": []
    },
    {
      "cell_type": "code",
      "source": [
        "def preData(data_train):\n",
        "  X_train=data_train.iloc[:,0:-1]\n",
        "  Y_train=data_train.iloc[:,-1]\n",
        "\n",
        "  X_train_array=asarray(X_train)\n",
        "  Y_train_array=asarray(Y_train)\n",
        "  return X_train_array,Y_train_array\n",
        "\n",
        "def f1(dataset):\n",
        "  x,y=preData(dataset)\n",
        "  x=x.reshape(1,x.shape[0],x.shape[1],1)\n",
        "  model = Sequential()\n",
        "  model.add(Conv2D(1, (1,7),strides=(1, 8),padding='same', input_shape=(x.shape[1],x.shape[2],1)))\n",
        "  model.summary()\n",
        "  detector = [\n",
        "                [[[0]],[[1]],[[1]],[[3]],[[1]],[[1]],[[0]]]\n",
        "            ]\n",
        "  weights = [asarray(detector), asarray([0.50])]\n",
        "  model.set_weights(weights)\n",
        "  yhat = model.predict(x)\n",
        "  for i in range(20,30):\n",
        "    print([x[0,i,j,0] for j in range(x.shape[2])])\n",
        "  print(f\"--------------\")\n",
        "  for r in range(20,30):\n",
        "    print([yhat[0,r,c,0] for c in range(yhat.shape[2])])\n",
        "  print(f\"--------------\")\n",
        "  for k in range(20,30):\n",
        "    print(y[k])"
      ],
      "metadata": {
        "id": "YYGv-6YdXZwf"
      },
      "execution_count": null,
      "outputs": []
    },
    {
      "cell_type": "code",
      "source": [
        "\n",
        "\n"
      ],
      "metadata": {
        "id": "t1pe1Tjavnp0"
      },
      "execution_count": null,
      "outputs": []
    },
    {
      "cell_type": "markdown",
      "source": [],
      "metadata": {
        "id": "dy8Cdft2i0gU"
      }
    }
  ]
}